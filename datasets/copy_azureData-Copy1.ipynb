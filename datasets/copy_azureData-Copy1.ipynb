{
 "cells": [
  {
   "cell_type": "code",
   "execution_count": 11,
   "id": "73a9744f",
   "metadata": {},
   "outputs": [],
   "source": [
    "import math\n",
    "import os\n",
    "import timeit\n",
    "import math\n",
    "\n",
    "import numpy as np\n",
    "# import ot\n",
    "import torch\n",
    "from torch import nn\n",
    "import torch.nn.functional as F\n",
    "import torchvision.datasets as dset\n",
    "import torchvision.transforms as transforms\n",
    "import torchvision.utils as vutils\n",
    "import torchvision.models as models\n",
    "import pdb\n",
    "from tqdm import tqdm\n",
    "import glob\n"
   ]
  },
  {
   "cell_type": "code",
   "execution_count": 6,
   "id": "83a6b598",
   "metadata": {},
   "outputs": [],
   "source": [
    "dataroot = '/workspace/mnt/EndorTeamArea/skulhare/gan_images_training/GAN_frame/train/consolidation/'"
   ]
  },
  {
   "cell_type": "code",
   "execution_count": 9,
   "id": "24f014b7",
   "metadata": {},
   "outputs": [],
   "source": [
    "data =  glob.glob(dataroot+'**/*.jpg')"
   ]
  },
  {
   "cell_type": "code",
   "execution_count": 12,
   "id": "25e18c96",
   "metadata": {},
   "outputs": [
    {
     "data": {
      "text/plain": [
       "67939"
      ]
     },
     "execution_count": 12,
     "metadata": {},
     "output_type": "execute_result"
    }
   ],
   "source": [
    "len(data)"
   ]
  },
  {
   "cell_type": "code",
   "execution_count": 13,
   "id": "d3bc5be2",
   "metadata": {},
   "outputs": [],
   "source": [
    "import random\n",
    "chosen = random.sample(range(5000),k=5000)"
   ]
  },
  {
   "cell_type": "code",
   "execution_count": 14,
   "id": "e867fb50",
   "metadata": {},
   "outputs": [
    {
     "data": {
      "text/plain": [
       "'/workspace/mnt/EndorTeamArea/skulhare/gan_images_training/GAN_frame/train/consolidation/MCH_031_202002142003570098PED/MCH_031_202002142003570098PED_003.jpg'"
      ]
     },
     "execution_count": 14,
     "metadata": {},
     "output_type": "execute_result"
    }
   ],
   "source": [
    "data[0]"
   ]
  },
  {
   "cell_type": "code",
   "execution_count": 15,
   "id": "60969a50",
   "metadata": {},
   "outputs": [
    {
     "name": "stdout",
     "output_type": "stream",
     "text": [
      "Number of CPUs available: 96\n"
     ]
    }
   ],
   "source": [
    "from joblib import Parallel,delayed\n",
    "import multiprocessing as mp\n",
    "import shutil\n",
    "\n",
    "print(\"Number of CPUs available:\", mp.cpu_count())"
   ]
  },
  {
   "cell_type": "code",
   "execution_count": 18,
   "id": "d61e5be0",
   "metadata": {},
   "outputs": [],
   "source": [
    "# copy for train\n",
    "\n",
    "to_path = \"mindary2phillips/trainA/\"\n",
    "def subsample_file(idx):\n",
    "#     to_path = \"/workspace/data/skulhare/lrs_ped_con/gan_train_images/val_balanced/consolidation/\"\n",
    "    file_name = data[idx].split('/')[-1]\n",
    "    file_to = to_path+file_name\n",
    "    shutil.copy(data[idx], file_to)\n",
    "#     !cp {dataset.samples[idx][0]} {file_to}"
   ]
  },
  {
   "cell_type": "code",
   "execution_count": 19,
   "id": "c7d16158",
   "metadata": {},
   "outputs": [
    {
     "data": {
      "text/plain": [
       "5000"
      ]
     },
     "execution_count": 19,
     "metadata": {},
     "output_type": "execute_result"
    }
   ],
   "source": [
    "len(chosen)"
   ]
  },
  {
   "cell_type": "code",
   "execution_count": 20,
   "id": "34eb8b2a",
   "metadata": {},
   "outputs": [],
   "source": [
    "def sabsample_parallel():\n",
    "    print(\"Number of CPUs available:\", mp.cpu_count())\n",
    "    Parallel(n_jobs=96,verbose=True)(delayed(subsample_file)(index) for index in chosen[:4900])"
   ]
  },
  {
   "cell_type": "code",
   "execution_count": 21,
   "id": "9844f7d0",
   "metadata": {},
   "outputs": [
    {
     "name": "stdout",
     "output_type": "stream",
     "text": [
      "Number of CPUs available: 96\n"
     ]
    },
    {
     "name": "stderr",
     "output_type": "stream",
     "text": [
      "[Parallel(n_jobs=96)]: Using backend LokyBackend with 96 concurrent workers.\n",
      "[Parallel(n_jobs=96)]: Done   8 tasks      | elapsed:    1.5s\n",
      "[Parallel(n_jobs=96)]: Done 258 tasks      | elapsed:    6.2s\n",
      "[Parallel(n_jobs=96)]: Done 608 tasks      | elapsed:   12.3s\n",
      "[Parallel(n_jobs=96)]: Done 1058 tasks      | elapsed:   22.7s\n",
      "[Parallel(n_jobs=96)]: Done 1608 tasks      | elapsed:   39.3s\n",
      "[Parallel(n_jobs=96)]: Done 2258 tasks      | elapsed:   58.9s\n",
      "[Parallel(n_jobs=96)]: Done 3008 tasks      | elapsed:  1.4min\n",
      "[Parallel(n_jobs=96)]: Done 3858 tasks      | elapsed:  1.8min\n",
      "[Parallel(n_jobs=96)]: Done 4900 out of 4900 | elapsed:  2.3min finished\n"
     ]
    }
   ],
   "source": [
    "sabsample_parallel()"
   ]
  },
  {
   "cell_type": "code",
   "execution_count": 22,
   "id": "f8a548c2",
   "metadata": {},
   "outputs": [],
   "source": [
    "#### copy for test"
   ]
  },
  {
   "cell_type": "code",
   "execution_count": 23,
   "id": "a23e38a3",
   "metadata": {},
   "outputs": [],
   "source": [
    "to_path = \"mindary2phillips/testA/\"\n",
    "def subsample_file(idx):\n",
    "#     to_path = \"/workspace/data/skulhare/lrs_ped_con/gan_train_images/val_balanced/consolidation/\"\n",
    "    file_name = data[idx].split('/')[-1]\n",
    "    file_to = to_path+file_name\n",
    "    shutil.copy(data[idx], file_to)\n",
    "#     !cp {dataset.samples[idx][0]} {file_to}"
   ]
  },
  {
   "cell_type": "code",
   "execution_count": 24,
   "id": "2572abd8",
   "metadata": {},
   "outputs": [],
   "source": [
    "def sabsample_parallel():\n",
    "    print(\"Number of CPUs available:\", mp.cpu_count())\n",
    "    Parallel(n_jobs=96,verbose=True)(delayed(subsample_file)(index) for index in chosen[4900:])"
   ]
  },
  {
   "cell_type": "code",
   "execution_count": 25,
   "id": "1422e4b5",
   "metadata": {},
   "outputs": [
    {
     "name": "stderr",
     "output_type": "stream",
     "text": [
      "[Parallel(n_jobs=96)]: Using backend LokyBackend with 96 concurrent workers.\n"
     ]
    },
    {
     "name": "stdout",
     "output_type": "stream",
     "text": [
      "Number of CPUs available: 96\n"
     ]
    },
    {
     "name": "stderr",
     "output_type": "stream",
     "text": [
      "[Parallel(n_jobs=96)]: Done  10 out of 100 | elapsed:    0.3s remaining:    2.9s\n",
      "[Parallel(n_jobs=96)]: Done 100 out of 100 | elapsed:    3.0s finished\n"
     ]
    }
   ],
   "source": [
    "sabsample_parallel()"
   ]
  },
  {
   "cell_type": "code",
   "execution_count": 26,
   "id": "3da4e753",
   "metadata": {},
   "outputs": [
    {
     "name": "stdout",
     "output_type": "stream",
     "text": [
      "yes\n"
     ]
    }
   ],
   "source": [
    "print(\"yes\")"
   ]
  },
  {
   "cell_type": "code",
   "execution_count": null,
   "id": "78f45000",
   "metadata": {},
   "outputs": [],
   "source": []
  },
  {
   "cell_type": "code",
   "execution_count": null,
   "id": "693e7d72",
   "metadata": {},
   "outputs": [],
   "source": []
  }
 ],
 "metadata": {
  "kernelspec": {
   "display_name": "Python 3 (ipykernel)",
   "language": "python",
   "name": "python3"
  },
  "language_info": {
   "codemirror_mode": {
    "name": "ipython",
    "version": 3
   },
   "file_extension": ".py",
   "mimetype": "text/x-python",
   "name": "python",
   "nbconvert_exporter": "python",
   "pygments_lexer": "ipython3",
   "version": "3.8.12"
  }
 },
 "nbformat": 4,
 "nbformat_minor": 5
}
