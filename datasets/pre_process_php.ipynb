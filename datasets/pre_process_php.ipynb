{
 "cells": [
  {
   "cell_type": "code",
   "execution_count": 1,
   "id": "73a9744f",
   "metadata": {},
   "outputs": [],
   "source": [
    "import math\n",
    "import os\n",
    "import timeit\n",
    "import math\n",
    "\n",
    "import numpy as np\n",
    "# import ot\n",
    "import torch\n",
    "from torch import nn\n",
    "import torch.nn.functional as F\n",
    "import torchvision.datasets as dset\n",
    "import torchvision.transforms as transforms\n",
    "import torchvision.utils as vutils\n",
    "import torchvision.models as models\n",
    "import pdb\n",
    "from tqdm import tqdm\n",
    "import glob\n",
    "\n",
    "import cv2\n",
    "from php_preprocessing import get_tight_crop_data,load_video"
   ]
  },
  {
   "cell_type": "code",
   "execution_count": 2,
   "id": "83a6b598",
   "metadata": {},
   "outputs": [],
   "source": [
    "dataroot = '/workspace/data/AdlerData/VideoLevelLearning/lung_abnormality_detection/train/healthy/'"
   ]
  },
  {
   "cell_type": "code",
   "execution_count": 19,
   "id": "0c463e05",
   "metadata": {},
   "outputs": [],
   "source": [
    "videos =  glob.glob(dataroot+'*.mp4')"
   ]
  },
  {
   "cell_type": "code",
   "execution_count": 20,
   "id": "60dfb81e",
   "metadata": {},
   "outputs": [
    {
     "data": {
      "text/plain": [
       "1481"
      ]
     },
     "execution_count": 20,
     "metadata": {},
     "output_type": "execute_result"
    }
   ],
   "source": [
    "len(videos)"
   ]
  },
  {
   "cell_type": "code",
   "execution_count": 21,
   "id": "98045acd",
   "metadata": {},
   "outputs": [
    {
     "data": {
      "text/plain": [
       "'/workspace/data/AdlerData/VideoLevelLearning/lung_abnormality_detection/train/healthy/070617PE-R300-A1-1_al_pl_5975.mp4'"
      ]
     },
     "execution_count": 21,
     "metadata": {},
     "output_type": "execute_result"
    }
   ],
   "source": [
    "videos[0]"
   ]
  },
  {
   "cell_type": "code",
   "execution_count": 36,
   "id": "13c1fd01",
   "metadata": {},
   "outputs": [],
   "source": [
    "save_path = \"/workspace/data/LRS/yumh/training_meta/negative_phillips/\""
   ]
  },
  {
   "cell_type": "code",
   "execution_count": 37,
   "id": "60969a50",
   "metadata": {},
   "outputs": [
    {
     "name": "stdout",
     "output_type": "stream",
     "text": [
      "Number of CPUs available: 96\n"
     ]
    }
   ],
   "source": [
    "from joblib import Parallel,delayed\n",
    "import multiprocessing as mp\n",
    "import shutil\n",
    "print(\"Number of CPUs available:\", mp.cpu_count())"
   ]
  },
  {
   "cell_type": "code",
   "execution_count": 44,
   "id": "d61e5be0",
   "metadata": {},
   "outputs": [],
   "source": [
    "def video_frame(idx):\n",
    "    video_name = videos[idx].split('/')[-1]\n",
    "    if not video_name[:4]=='ARDS': # if it's a pig lung picture\n",
    "        loaded =  load_video(data)\n",
    "        resized = get_tight_crop_data(loaded)\n",
    "        for i in range(resized[0].shape[0]):\n",
    "            save_file = save_path+video_name+'_'+str(i)+'.jpg'\n",
    "            cv2.imwrite(save_file,resized[0][i][:,:,0])"
   ]
  },
  {
   "cell_type": "code",
   "execution_count": 45,
   "id": "34eb8b2a",
   "metadata": {},
   "outputs": [],
   "source": [
    "def sabsample_parallel():\n",
    "    print(\"Number of CPUs available:\", mp.cpu_count())\n",
    "    Parallel(n_jobs=96,verbose=True)(delayed(video_frame)(index) for index in range(len(videos)))"
   ]
  },
  {
   "cell_type": "code",
   "execution_count": 46,
   "id": "9844f7d0",
   "metadata": {},
   "outputs": [
    {
     "name": "stdout",
     "output_type": "stream",
     "text": [
      "Number of CPUs available: 96\n"
     ]
    },
    {
     "name": "stderr",
     "output_type": "stream",
     "text": [
      "[Parallel(n_jobs=96)]: Using backend LokyBackend with 96 concurrent workers.\n",
      "[Parallel(n_jobs=96)]: Done   8 tasks      | elapsed:    0.1s\n",
      "/opt/conda/lib/python3.8/site-packages/joblib/externals/loky/process_executor.py:702: UserWarning: A worker stopped while some jobs were given to the executor. This can be caused by a too short worker timeout or by a memory leak.\n",
      "  warnings.warn(\n",
      "[Parallel(n_jobs=96)]: Done 324 tasks      | elapsed:  3.3min\n",
      "[Parallel(n_jobs=96)]: Done 800 tasks      | elapsed:  6.9min\n",
      "[Parallel(n_jobs=96)]: Done 1250 tasks      | elapsed: 11.6min\n",
      "[Parallel(n_jobs=96)]: Done 1481 out of 1481 | elapsed: 13.6min finished\n"
     ]
    }
   ],
   "source": [
    "sabsample_parallel()"
   ]
  },
  {
   "cell_type": "code",
   "execution_count": 47,
   "id": "3da4e753",
   "metadata": {
    "scrolled": true
   },
   "outputs": [
    {
     "name": "stdout",
     "output_type": "stream",
     "text": [
      "yes\n"
     ]
    }
   ],
   "source": [
    "print(\"yes\")"
   ]
  },
  {
   "cell_type": "code",
   "execution_count": null,
   "id": "78f45000",
   "metadata": {},
   "outputs": [],
   "source": []
  },
  {
   "cell_type": "code",
   "execution_count": null,
   "id": "693e7d72",
   "metadata": {},
   "outputs": [],
   "source": []
  }
 ],
 "metadata": {
  "kernelspec": {
   "display_name": "Python 3 (ipykernel)",
   "language": "python",
   "name": "python3"
  },
  "language_info": {
   "codemirror_mode": {
    "name": "ipython",
    "version": 3
   },
   "file_extension": ".py",
   "mimetype": "text/x-python",
   "name": "python",
   "nbconvert_exporter": "python",
   "pygments_lexer": "ipython3",
   "version": "3.8.12"
  }
 },
 "nbformat": 4,
 "nbformat_minor": 5
}
