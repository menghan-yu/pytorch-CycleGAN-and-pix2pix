{
 "cells": [
  {
   "cell_type": "code",
   "execution_count": 7,
   "id": "73a9744f",
   "metadata": {},
   "outputs": [],
   "source": [
    "import math\n",
    "import os\n",
    "import timeit\n",
    "import math\n",
    "\n",
    "import numpy as np\n",
    "# import ot\n",
    "import torch\n",
    "from torch import nn\n",
    "import torch.nn.functional as F\n",
    "import torchvision.datasets as dset\n",
    "import torchvision.transforms as transforms\n",
    "import torchvision.utils as vutils\n",
    "import torchvision.models as models\n",
    "import pdb\n",
    "from tqdm import tqdm\n",
    "import glob\n"
   ]
  },
  {
   "cell_type": "code",
   "execution_count": 11,
   "id": "83a6b598",
   "metadata": {},
   "outputs": [],
   "source": [
    "dataroot = '/workspace/mnt/EndorData/curve_jpeg_images/05092020_con/train/consolidation/'"
   ]
  },
  {
   "cell_type": "code",
   "execution_count": 14,
   "id": "24f014b7",
   "metadata": {},
   "outputs": [],
   "source": [
    "data =  glob.glob(dataroot+'*.jpg')"
   ]
  },
  {
   "cell_type": "code",
   "execution_count": 17,
   "id": "3adc83bb",
   "metadata": {},
   "outputs": [
    {
     "data": {
      "text/plain": [
       "31024"
      ]
     },
     "execution_count": 17,
     "metadata": {},
     "output_type": "execute_result"
    }
   ],
   "source": [
    "len(data)"
   ]
  },
  {
   "cell_type": "code",
   "execution_count": 29,
   "id": "12c27671",
   "metadata": {},
   "outputs": [],
   "source": [
    "import random\n",
    "chosen = random.sample(range(5000),k=5000)"
   ]
  },
  {
   "cell_type": "code",
   "execution_count": 31,
   "id": "d9e6a7e9",
   "metadata": {},
   "outputs": [
    {
     "data": {
      "text/plain": [
       "'/workspace/mnt/EndorData/curve_jpeg_images/05092020_con/train/consolidation/image_10317784505428590.jpg'"
      ]
     },
     "execution_count": 31,
     "metadata": {},
     "output_type": "execute_result"
    }
   ],
   "source": [
    "data[0]"
   ]
  },
  {
   "cell_type": "code",
   "execution_count": 32,
   "id": "60969a50",
   "metadata": {},
   "outputs": [
    {
     "name": "stdout",
     "output_type": "stream",
     "text": [
      "Number of CPUs available: 96\n"
     ]
    }
   ],
   "source": [
    "from joblib import Parallel,delayed\n",
    "import multiprocessing as mp\n",
    "import shutil\n",
    "\n",
    "print(\"Number of CPUs available:\", mp.cpu_count())"
   ]
  },
  {
   "cell_type": "code",
   "execution_count": 39,
   "id": "d61e5be0",
   "metadata": {},
   "outputs": [],
   "source": [
    "# copy for train\n",
    "\n",
    "to_path = \"mindary2phillips/trainB/\"\n",
    "def subsample_file(idx):\n",
    "#     to_path = \"/workspace/data/skulhare/lrs_ped_con/gan_train_images/val_balanced/consolidation/\"\n",
    "    file_name = data[idx].split('/')[-1]\n",
    "    file_to = to_path+file_name\n",
    "    shutil.copy(data[idx], file_to)\n",
    "#     !cp {dataset.samples[idx][0]} {file_to}"
   ]
  },
  {
   "cell_type": "code",
   "execution_count": 40,
   "id": "c7d16158",
   "metadata": {},
   "outputs": [
    {
     "data": {
      "text/plain": [
       "5000"
      ]
     },
     "execution_count": 40,
     "metadata": {},
     "output_type": "execute_result"
    }
   ],
   "source": [
    "len(chosen)"
   ]
  },
  {
   "cell_type": "code",
   "execution_count": 41,
   "id": "34eb8b2a",
   "metadata": {},
   "outputs": [],
   "source": [
    "def sabsample_parallel():\n",
    "    print(\"Number of CPUs available:\", mp.cpu_count())\n",
    "    Parallel(n_jobs=48,verbose=True)(delayed(subsample_file)(index) for index in chosen[:4900])"
   ]
  },
  {
   "cell_type": "code",
   "execution_count": 42,
   "id": "9844f7d0",
   "metadata": {},
   "outputs": [
    {
     "name": "stdout",
     "output_type": "stream",
     "text": [
      "Number of CPUs available: 96\n"
     ]
    },
    {
     "name": "stderr",
     "output_type": "stream",
     "text": [
      "[Parallel(n_jobs=48)]: Using backend LokyBackend with 48 concurrent workers.\n",
      "[Parallel(n_jobs=48)]: Done 112 tasks      | elapsed:    4.4s\n",
      "[Parallel(n_jobs=48)]: Done 450 tasks      | elapsed:    9.7s\n",
      "[Parallel(n_jobs=48)]: Done 800 tasks      | elapsed:   14.8s\n",
      "[Parallel(n_jobs=48)]: Done 1250 tasks      | elapsed:   22.2s\n",
      "[Parallel(n_jobs=48)]: Done 1800 tasks      | elapsed:   30.4s\n",
      "[Parallel(n_jobs=48)]: Done 2450 tasks      | elapsed:   40.5s\n",
      "[Parallel(n_jobs=48)]: Done 3200 tasks      | elapsed:   51.6s\n",
      "[Parallel(n_jobs=48)]: Done 4050 tasks      | elapsed:  1.1min\n",
      "[Parallel(n_jobs=48)]: Done 4900 out of 4900 | elapsed:  1.3min finished\n"
     ]
    }
   ],
   "source": [
    "sabsample_parallel()"
   ]
  },
  {
   "cell_type": "code",
   "execution_count": 43,
   "id": "c46b22de",
   "metadata": {},
   "outputs": [],
   "source": [
    "#### copy for test"
   ]
  },
  {
   "cell_type": "code",
   "execution_count": 44,
   "id": "eedbcab7",
   "metadata": {},
   "outputs": [],
   "source": [
    "to_path = \"mindary2phillips/testB/\"\n",
    "def subsample_file(idx):\n",
    "#     to_path = \"/workspace/data/skulhare/lrs_ped_con/gan_train_images/val_balanced/consolidation/\"\n",
    "    file_name = data[idx].split('/')[-1]\n",
    "    file_to = to_path+file_name\n",
    "    shutil.copy(data[idx], file_to)\n",
    "#     !cp {dataset.samples[idx][0]} {file_to}"
   ]
  },
  {
   "cell_type": "code",
   "execution_count": 45,
   "id": "051ca067",
   "metadata": {},
   "outputs": [],
   "source": [
    "def sabsample_parallel():\n",
    "    print(\"Number of CPUs available:\", mp.cpu_count())\n",
    "    Parallel(n_jobs=48,verbose=True)(delayed(subsample_file)(index) for index in chosen[4900:])"
   ]
  },
  {
   "cell_type": "code",
   "execution_count": 46,
   "id": "ed82593a",
   "metadata": {},
   "outputs": [
    {
     "name": "stderr",
     "output_type": "stream",
     "text": [
      "[Parallel(n_jobs=48)]: Using backend LokyBackend with 48 concurrent workers.\n"
     ]
    },
    {
     "name": "stdout",
     "output_type": "stream",
     "text": [
      "Number of CPUs available: 96\n"
     ]
    },
    {
     "name": "stderr",
     "output_type": "stream",
     "text": [
      "[Parallel(n_jobs=48)]: Done 100 out of 100 | elapsed:    1.6s finished\n"
     ]
    }
   ],
   "source": [
    "sabsample_parallel()"
   ]
  },
  {
   "cell_type": "code",
   "execution_count": 47,
   "id": "3da4e753",
   "metadata": {},
   "outputs": [
    {
     "name": "stdout",
     "output_type": "stream",
     "text": [
      "yes\n"
     ]
    }
   ],
   "source": [
    "print(\"yes\")"
   ]
  },
  {
   "cell_type": "code",
   "execution_count": null,
   "id": "78f45000",
   "metadata": {},
   "outputs": [],
   "source": []
  }
 ],
 "metadata": {
  "kernelspec": {
   "display_name": "Python 3 (ipykernel)",
   "language": "python",
   "name": "python3"
  },
  "language_info": {
   "codemirror_mode": {
    "name": "ipython",
    "version": 3
   },
   "file_extension": ".py",
   "mimetype": "text/x-python",
   "name": "python",
   "nbconvert_exporter": "python",
   "pygments_lexer": "ipython3",
   "version": "3.8.12"
  }
 },
 "nbformat": 4,
 "nbformat_minor": 5
}
